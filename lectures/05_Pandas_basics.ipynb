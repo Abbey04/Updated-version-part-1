{
 "cells": [
  {
   "cell_type": "markdown",
   "id": "080e3f3b",
   "metadata": {},
   "source": [
    "# Pandas Basics"
   ]
  },
  {
   "cell_type": "markdown",
   "id": "749054a2",
   "metadata": {},
   "source": [
    "This week we will work with the `pandas` library for data analysis.\n",
    "The reference guide for numpy can be found here: https://pandas.pydata.org/docs/. "
   ]
  },
  {
   "cell_type": "code",
   "execution_count": 1,
   "id": "367e6ab7",
   "metadata": {},
   "outputs": [],
   "source": [
    "import numpy as np\n",
    "import pandas as pd\n",
    "import os\n"
   ]
  },
  {
   "cell_type": "markdown",
   "id": "b7379184",
   "metadata": {},
   "source": [
    "# Pandas Series\n",
    "\n",
    "Let's start by creating a series of some data. As labels are not specified here, the indexes will be integers by default."
   ]
  },
  {
   "cell_type": "code",
   "execution_count": 20,
   "id": "22f3dee8",
   "metadata": {
    "scrolled": true
   },
   "outputs": [
    {
     "data": {
      "text/plain": [
       "0     10\n",
       "1     50\n",
       "2    100\n",
       "dtype: int64"
      ]
     },
     "execution_count": 20,
     "metadata": {},
     "output_type": "execute_result"
    }
   ],
   "source": [
    "import pandas as pd\n",
    "\n",
    "# pd.Series(\n",
    "#    data=None,\n",
    "#    index=None,\n",
    "#    dtype: 'Dtype | None' = None,\n",
    "#    name=None,\n",
    "#    copy: 'bool' = False,\n",
    "#    fastpath: 'bool' = False,\n",
    "#)\n",
    "\n",
    "labels = ['a', 'b', 'c']\n",
    "data = [10,50,100]\n",
    "arr = np.array(data)\n",
    "d = {'a': 10, 'b': '50', 'c': 100}\n",
    "\n",
    "pd.Series(data)\n",
    "\n",
    "\n",
    "#To utilise like a dictionary / hash table:\n",
    "#ser1[\"a\"]\n",
    "\n"
   ]
  },
  {
   "cell_type": "markdown",
   "id": "0499691a",
   "metadata": {},
   "source": [
    "# More on Series\n",
    "\n",
    "Now let's add some labels"
   ]
  },
  {
   "cell_type": "code",
   "execution_count": 30,
   "id": "2786d5ba",
   "metadata": {
    "scrolled": true
   },
   "outputs": [
    {
     "data": {
      "text/plain": [
       "a     10\n",
       "b     50\n",
       "c    100\n",
       "Name: Test series, dtype: int64"
      ]
     },
     "execution_count": 30,
     "metadata": {},
     "output_type": "execute_result"
    }
   ],
   "source": [
    "labels = ['a', 'b', 'c']\n",
    "data = [10,50,100]\n",
    "arr = np.array(data)\n",
    "d = {'a': 10, 'b': '50', 'c': 100}\n",
    "\n",
    "series1 = pd.Series(data, labels, None, \"Test series\")\n",
    "series1\n"
   ]
  },
  {
   "cell_type": "code",
   "execution_count": 31,
   "id": "c1afaa57",
   "metadata": {},
   "outputs": [
    {
     "data": {
      "text/plain": [
       "USA       1\n",
       "China     2\n",
       "Sweden    3\n",
       "UK        4\n",
       "dtype: int64"
      ]
     },
     "execution_count": 31,
     "metadata": {},
     "output_type": "execute_result"
    }
   ],
   "source": [
    "data = [1,2,3,4]\n",
    "labels = ['USA', 'China', 'Sweden', 'UK']\n",
    "\n",
    "series2 = pd.Series(data, labels)\n",
    "series2"
   ]
  },
  {
   "cell_type": "code",
   "execution_count": 32,
   "id": "9534417d",
   "metadata": {},
   "outputs": [
    {
     "data": {
      "text/plain": [
       "USA      1\n",
       "China    2\n",
       "Italy    5\n",
       "UK       4\n",
       "dtype: int64"
      ]
     },
     "execution_count": 32,
     "metadata": {},
     "output_type": "execute_result"
    }
   ],
   "source": [
    "series3 = pd.Series([1,2,5,4],['USA','China','Italy','UK'])\n",
    "series3"
   ]
  },
  {
   "cell_type": "markdown",
   "id": "52818f56",
   "metadata": {},
   "source": [
    "# Concatenation of Series\n",
    "\n",
    "Notice how the attempt to concatenate the values of the two previous series works for some values where there is alignment. But it doesn't work for all values where there is not alignment. Also notice how the data type changes to float."
   ]
  },
  {
   "cell_type": "code",
   "execution_count": 34,
   "id": "797f39ea",
   "metadata": {},
   "outputs": [
    {
     "data": {
      "text/plain": [
       "China     4.0\n",
       "Italy     NaN\n",
       "Sweden    NaN\n",
       "UK        8.0\n",
       "USA       2.0\n",
       "dtype: float64"
      ]
     },
     "execution_count": 34,
     "metadata": {},
     "output_type": "execute_result"
    }
   ],
   "source": [
    "series2 + series3"
   ]
  },
  {
   "cell_type": "markdown",
   "id": "57ae06c0",
   "metadata": {},
   "source": [
    "# DataFrames (+ Random number generation)\n",
    "\n",
    "First let's generate some random numbers via the random module in numpy\n",
    "\n",
    "Repeatedly run the cell below - what do you notice?"
   ]
  },
  {
   "cell_type": "code",
   "execution_count": 58,
   "id": "2f60cd89",
   "metadata": {},
   "outputs": [
    {
     "name": "stdout",
     "output_type": "stream",
     "text": [
      "23\n",
      "[[ 1.73673761  1.89791391 -2.10677342 -0.14891209]\n",
      " [ 0.58306155 -2.25923303  0.13723954 -0.70121322]\n",
      " [-0.62078008 -0.47961976  1.20973877 -1.07518386]\n",
      " [ 0.80691921 -0.29078347 -0.22094764 -0.16915604]\n",
      " [ 1.10083444  0.08251052 -0.00437558 -1.72255825]]\n"
     ]
    }
   ],
   "source": [
    "from random import randint\n",
    "import numpy as np\n",
    "import pandas as pd\n",
    "\n",
    "from numpy.random import randn\n",
    "\n",
    "np.random.seed(2000)\n",
    "\n",
    "rnum = randint(1,100)\n",
    "rarr = randn(5,4)\n",
    "\n",
    "print(rnum)\n",
    "print(rarr)"
   ]
  },
  {
   "cell_type": "markdown",
   "id": "d92a559c",
   "metadata": {},
   "source": [
    "# Let's create a DataFrame"
   ]
  },
  {
   "cell_type": "code",
   "execution_count": 60,
   "id": "0a887307",
   "metadata": {},
   "outputs": [
    {
     "data": {
      "text/html": [
       "<div>\n",
       "<style scoped>\n",
       "    .dataframe tbody tr th:only-of-type {\n",
       "        vertical-align: middle;\n",
       "    }\n",
       "\n",
       "    .dataframe tbody tr th {\n",
       "        vertical-align: top;\n",
       "    }\n",
       "\n",
       "    .dataframe thead th {\n",
       "        text-align: right;\n",
       "    }\n",
       "</style>\n",
       "<table border=\"1\" class=\"dataframe\">\n",
       "  <thead>\n",
       "    <tr style=\"text-align: right;\">\n",
       "      <th></th>\n",
       "      <th>W</th>\n",
       "      <th>X</th>\n",
       "      <th>Y</th>\n",
       "      <th>Z</th>\n",
       "    </tr>\n",
       "  </thead>\n",
       "  <tbody>\n",
       "    <tr>\n",
       "      <th>A</th>\n",
       "      <td>-0.668443</td>\n",
       "      <td>-1.033327</td>\n",
       "      <td>2.505239</td>\n",
       "      <td>0.106624</td>\n",
       "    </tr>\n",
       "    <tr>\n",
       "      <th>B</th>\n",
       "      <td>0.363085</td>\n",
       "      <td>1.112326</td>\n",
       "      <td>-0.591721</td>\n",
       "      <td>1.544800</td>\n",
       "    </tr>\n",
       "    <tr>\n",
       "      <th>C</th>\n",
       "      <td>2.476392</td>\n",
       "      <td>-2.874709</td>\n",
       "      <td>2.396024</td>\n",
       "      <td>0.131246</td>\n",
       "    </tr>\n",
       "    <tr>\n",
       "      <th>D</th>\n",
       "      <td>0.304399</td>\n",
       "      <td>1.176606</td>\n",
       "      <td>0.129894</td>\n",
       "      <td>0.213699</td>\n",
       "    </tr>\n",
       "    <tr>\n",
       "      <th>E</th>\n",
       "      <td>0.099963</td>\n",
       "      <td>-0.047857</td>\n",
       "      <td>0.374946</td>\n",
       "      <td>0.404629</td>\n",
       "    </tr>\n",
       "  </tbody>\n",
       "</table>\n",
       "</div>"
      ],
      "text/plain": [
       "          W         X         Y         Z\n",
       "A -0.668443 -1.033327  2.505239  0.106624\n",
       "B  0.363085  1.112326 -0.591721  1.544800\n",
       "C  2.476392 -2.874709  2.396024  0.131246\n",
       "D  0.304399  1.176606  0.129894  0.213699\n",
       "E  0.099963 -0.047857  0.374946  0.404629"
      ]
     },
     "execution_count": 60,
     "metadata": {},
     "output_type": "execute_result"
    }
   ],
   "source": [
    "df = pd.DataFrame(randn(5,4), ['A','B','C','D','E'], ['W','X','Y','Z'])\n",
    "df"
   ]
  },
  {
   "cell_type": "markdown",
   "id": "1337339b",
   "metadata": {},
   "source": [
    "# Select columns of the dataframe \n",
    "\n",
    "Like indexed structures we can get access to single columns, or multiple columns (if we pass in as an array).\n"
   ]
  },
  {
   "cell_type": "code",
   "execution_count": 61,
   "id": "1b59ce4b",
   "metadata": {},
   "outputs": [
    {
     "data": {
      "text/plain": [
       "A   -0.668443\n",
       "B    0.363085\n",
       "C    2.476392\n",
       "D    0.304399\n",
       "E    0.099963\n",
       "Name: W, dtype: float64"
      ]
     },
     "execution_count": 61,
     "metadata": {},
     "output_type": "execute_result"
    }
   ],
   "source": [
    "df[\"W\"]"
   ]
  },
  {
   "cell_type": "code",
   "execution_count": 62,
   "id": "1b0888e3",
   "metadata": {
    "scrolled": true
   },
   "outputs": [
    {
     "data": {
      "text/html": [
       "<div>\n",
       "<style scoped>\n",
       "    .dataframe tbody tr th:only-of-type {\n",
       "        vertical-align: middle;\n",
       "    }\n",
       "\n",
       "    .dataframe tbody tr th {\n",
       "        vertical-align: top;\n",
       "    }\n",
       "\n",
       "    .dataframe thead th {\n",
       "        text-align: right;\n",
       "    }\n",
       "</style>\n",
       "<table border=\"1\" class=\"dataframe\">\n",
       "  <thead>\n",
       "    <tr style=\"text-align: right;\">\n",
       "      <th></th>\n",
       "      <th>W</th>\n",
       "      <th>Z</th>\n",
       "    </tr>\n",
       "  </thead>\n",
       "  <tbody>\n",
       "    <tr>\n",
       "      <th>A</th>\n",
       "      <td>-0.668443</td>\n",
       "      <td>0.106624</td>\n",
       "    </tr>\n",
       "    <tr>\n",
       "      <th>B</th>\n",
       "      <td>0.363085</td>\n",
       "      <td>1.544800</td>\n",
       "    </tr>\n",
       "    <tr>\n",
       "      <th>C</th>\n",
       "      <td>2.476392</td>\n",
       "      <td>0.131246</td>\n",
       "    </tr>\n",
       "    <tr>\n",
       "      <th>D</th>\n",
       "      <td>0.304399</td>\n",
       "      <td>0.213699</td>\n",
       "    </tr>\n",
       "    <tr>\n",
       "      <th>E</th>\n",
       "      <td>0.099963</td>\n",
       "      <td>0.404629</td>\n",
       "    </tr>\n",
       "  </tbody>\n",
       "</table>\n",
       "</div>"
      ],
      "text/plain": [
       "          W         Z\n",
       "A -0.668443  0.106624\n",
       "B  0.363085  1.544800\n",
       "C  2.476392  0.131246\n",
       "D  0.304399  0.213699\n",
       "E  0.099963  0.404629"
      ]
     },
     "execution_count": 62,
     "metadata": {},
     "output_type": "execute_result"
    }
   ],
   "source": [
    "df[[\"W\", \"Z\"]]"
   ]
  },
  {
   "cell_type": "markdown",
   "id": "3d4b64b9",
   "metadata": {},
   "source": [
    "# Select rows"
   ]
  },
  {
   "cell_type": "code",
   "execution_count": 64,
   "id": "febfde80",
   "metadata": {
    "scrolled": false
   },
   "outputs": [
    {
     "data": {
      "text/plain": [
       "W   -0.668443\n",
       "X   -1.033327\n",
       "Y    2.505239\n",
       "Z    0.106624\n",
       "Name: A, dtype: float64"
      ]
     },
     "execution_count": 64,
     "metadata": {},
     "output_type": "execute_result"
    }
   ],
   "source": [
    "df.loc['A']"
   ]
  },
  {
   "cell_type": "markdown",
   "id": "f65d90d3",
   "metadata": {},
   "source": [
    "# Select rows - can also access via the integer position\n",
    "In this case, 2 would be the 3rd row - AKA 'Row C'"
   ]
  },
  {
   "cell_type": "code",
   "execution_count": 66,
   "id": "e66bb78d",
   "metadata": {
    "scrolled": true
   },
   "outputs": [
    {
     "data": {
      "text/plain": [
       "W    2.476392\n",
       "X   -2.874709\n",
       "Y    2.396024\n",
       "Z    0.131246\n",
       "Name: C, dtype: float64"
      ]
     },
     "execution_count": 66,
     "metadata": {},
     "output_type": "execute_result"
    }
   ],
   "source": [
    "#i for integer - can get to the index position. \n",
    "#2 in this case is row 3 AKA row C\n",
    "df.iloc[2]"
   ]
  },
  {
   "cell_type": "markdown",
   "id": "1664dfd8",
   "metadata": {},
   "source": [
    "# Smaller Sample Size\n",
    "\n",
    "Pandas also has sample method, which returns a random and more manageable selection of rows to analyse."
   ]
  },
  {
   "cell_type": "code",
   "execution_count": 69,
   "id": "e674f0c3",
   "metadata": {
    "scrolled": true
   },
   "outputs": [
    {
     "data": {
      "text/html": [
       "<div>\n",
       "<style scoped>\n",
       "    .dataframe tbody tr th:only-of-type {\n",
       "        vertical-align: middle;\n",
       "    }\n",
       "\n",
       "    .dataframe tbody tr th {\n",
       "        vertical-align: top;\n",
       "    }\n",
       "\n",
       "    .dataframe thead th {\n",
       "        text-align: right;\n",
       "    }\n",
       "</style>\n",
       "<table border=\"1\" class=\"dataframe\">\n",
       "  <thead>\n",
       "    <tr style=\"text-align: right;\">\n",
       "      <th></th>\n",
       "      <th>W</th>\n",
       "      <th>X</th>\n",
       "      <th>Y</th>\n",
       "      <th>Z</th>\n",
       "    </tr>\n",
       "  </thead>\n",
       "  <tbody>\n",
       "    <tr>\n",
       "      <th>D</th>\n",
       "      <td>0.304399</td>\n",
       "      <td>1.176606</td>\n",
       "      <td>0.129894</td>\n",
       "      <td>0.213699</td>\n",
       "    </tr>\n",
       "  </tbody>\n",
       "</table>\n",
       "</div>"
      ],
      "text/plain": [
       "          W         X         Y         Z\n",
       "D  0.304399  1.176606  0.129894  0.213699"
      ]
     },
     "execution_count": 69,
     "metadata": {},
     "output_type": "execute_result"
    }
   ],
   "source": [
    "df.sample(1)"
   ]
  },
  {
   "cell_type": "markdown",
   "id": "244bc319",
   "metadata": {},
   "source": [
    "# Check for null values\n",
    "\n"
   ]
  },
  {
   "cell_type": "code",
   "execution_count": 22,
   "id": "9d66fd2b",
   "metadata": {
    "scrolled": true
   },
   "outputs": [
    {
     "data": {
      "text/plain": [
       "PassengerId      0\n",
       "Survived         0\n",
       "Pclass           0\n",
       "Name             0\n",
       "Sex              0\n",
       "Age            177\n",
       "SibSp            0\n",
       "Parch            0\n",
       "Ticket           0\n",
       "Fare             0\n",
       "Cabin          687\n",
       "Embarked         2\n",
       "Age Filled       0\n",
       "dtype: int64"
      ]
     },
     "execution_count": 22,
     "metadata": {},
     "output_type": "execute_result"
    }
   ],
   "source": [
    "titanic_df.isna().sum()"
   ]
  },
  {
   "cell_type": "code",
   "execution_count": 34,
   "id": "4bcc50c7",
   "metadata": {
    "scrolled": false
   },
   "outputs": [],
   "source": [
    "first_t = titanic_df[[\"Survived\", \"Pclass\"]]\n",
    "middle_t = titanic_df[[\"Parch\",\"Cabin\"]]\n",
    "end_t = titanic_df[[\"Name\", \"Age\"]]\n"
   ]
  },
  {
   "cell_type": "code",
   "execution_count": 35,
   "id": "0902bfa0",
   "metadata": {
    "scrolled": true
   },
   "outputs": [
    {
     "data": {
      "text/html": [
       "<div>\n",
       "<style scoped>\n",
       "    .dataframe tbody tr th:only-of-type {\n",
       "        vertical-align: middle;\n",
       "    }\n",
       "\n",
       "    .dataframe tbody tr th {\n",
       "        vertical-align: top;\n",
       "    }\n",
       "\n",
       "    .dataframe thead th {\n",
       "        text-align: right;\n",
       "    }\n",
       "</style>\n",
       "<table border=\"1\" class=\"dataframe\">\n",
       "  <thead>\n",
       "    <tr style=\"text-align: right;\">\n",
       "      <th></th>\n",
       "      <th>Name</th>\n",
       "      <th>Age</th>\n",
       "    </tr>\n",
       "  </thead>\n",
       "  <tbody>\n",
       "    <tr>\n",
       "      <th>0</th>\n",
       "      <td>Braund, Mr. Owen Harris</td>\n",
       "      <td>22.0</td>\n",
       "    </tr>\n",
       "    <tr>\n",
       "      <th>1</th>\n",
       "      <td>Cumings, Mrs. John Bradley (Florence Briggs Th...</td>\n",
       "      <td>38.0</td>\n",
       "    </tr>\n",
       "    <tr>\n",
       "      <th>2</th>\n",
       "      <td>Heikkinen, Miss. Laina</td>\n",
       "      <td>26.0</td>\n",
       "    </tr>\n",
       "    <tr>\n",
       "      <th>3</th>\n",
       "      <td>Futrelle, Mrs. Jacques Heath (Lily May Peel)</td>\n",
       "      <td>35.0</td>\n",
       "    </tr>\n",
       "    <tr>\n",
       "      <th>4</th>\n",
       "      <td>Allen, Mr. William Henry</td>\n",
       "      <td>35.0</td>\n",
       "    </tr>\n",
       "    <tr>\n",
       "      <th>...</th>\n",
       "      <td>...</td>\n",
       "      <td>...</td>\n",
       "    </tr>\n",
       "    <tr>\n",
       "      <th>886</th>\n",
       "      <td>Montvila, Rev. Juozas</td>\n",
       "      <td>27.0</td>\n",
       "    </tr>\n",
       "    <tr>\n",
       "      <th>887</th>\n",
       "      <td>Graham, Miss. Margaret Edith</td>\n",
       "      <td>19.0</td>\n",
       "    </tr>\n",
       "    <tr>\n",
       "      <th>888</th>\n",
       "      <td>Johnston, Miss. Catherine Helen \"Carrie\"</td>\n",
       "      <td>NaN</td>\n",
       "    </tr>\n",
       "    <tr>\n",
       "      <th>889</th>\n",
       "      <td>Behr, Mr. Karl Howell</td>\n",
       "      <td>26.0</td>\n",
       "    </tr>\n",
       "    <tr>\n",
       "      <th>890</th>\n",
       "      <td>Dooley, Mr. Patrick</td>\n",
       "      <td>32.0</td>\n",
       "    </tr>\n",
       "  </tbody>\n",
       "</table>\n",
       "<p>891 rows × 2 columns</p>\n",
       "</div>"
      ],
      "text/plain": [
       "                                                  Name   Age\n",
       "0                              Braund, Mr. Owen Harris  22.0\n",
       "1    Cumings, Mrs. John Bradley (Florence Briggs Th...  38.0\n",
       "2                               Heikkinen, Miss. Laina  26.0\n",
       "3         Futrelle, Mrs. Jacques Heath (Lily May Peel)  35.0\n",
       "4                             Allen, Mr. William Henry  35.0\n",
       "..                                                 ...   ...\n",
       "886                              Montvila, Rev. Juozas  27.0\n",
       "887                       Graham, Miss. Margaret Edith  19.0\n",
       "888           Johnston, Miss. Catherine Helen \"Carrie\"   NaN\n",
       "889                              Behr, Mr. Karl Howell  26.0\n",
       "890                                Dooley, Mr. Patrick  32.0\n",
       "\n",
       "[891 rows x 2 columns]"
      ]
     },
     "execution_count": 35,
     "metadata": {},
     "output_type": "execute_result"
    }
   ],
   "source": [
    "end_t"
   ]
  },
  {
   "cell_type": "markdown",
   "id": "b0b7e888",
   "metadata": {},
   "source": [
    "# Joining columns in a custom dataframe"
   ]
  },
  {
   "cell_type": "code",
   "execution_count": 29,
   "id": "80d21725",
   "metadata": {
    "scrolled": true
   },
   "outputs": [
    {
     "data": {
      "text/html": [
       "<div>\n",
       "<style scoped>\n",
       "    .dataframe tbody tr th:only-of-type {\n",
       "        vertical-align: middle;\n",
       "    }\n",
       "\n",
       "    .dataframe tbody tr th {\n",
       "        vertical-align: top;\n",
       "    }\n",
       "\n",
       "    .dataframe thead th {\n",
       "        text-align: right;\n",
       "    }\n",
       "</style>\n",
       "<table border=\"1\" class=\"dataframe\">\n",
       "  <thead>\n",
       "    <tr style=\"text-align: right;\">\n",
       "      <th></th>\n",
       "      <th>Survived</th>\n",
       "      <th>Pclass</th>\n",
       "      <th>Name</th>\n",
       "      <th>Age</th>\n",
       "    </tr>\n",
       "  </thead>\n",
       "  <tbody>\n",
       "    <tr>\n",
       "      <th>0</th>\n",
       "      <td>0.0</td>\n",
       "      <td>3.0</td>\n",
       "      <td>NaN</td>\n",
       "      <td>NaN</td>\n",
       "    </tr>\n",
       "    <tr>\n",
       "      <th>1</th>\n",
       "      <td>1.0</td>\n",
       "      <td>1.0</td>\n",
       "      <td>NaN</td>\n",
       "      <td>NaN</td>\n",
       "    </tr>\n",
       "    <tr>\n",
       "      <th>2</th>\n",
       "      <td>1.0</td>\n",
       "      <td>3.0</td>\n",
       "      <td>NaN</td>\n",
       "      <td>NaN</td>\n",
       "    </tr>\n",
       "    <tr>\n",
       "      <th>3</th>\n",
       "      <td>1.0</td>\n",
       "      <td>1.0</td>\n",
       "      <td>NaN</td>\n",
       "      <td>NaN</td>\n",
       "    </tr>\n",
       "    <tr>\n",
       "      <th>4</th>\n",
       "      <td>0.0</td>\n",
       "      <td>3.0</td>\n",
       "      <td>NaN</td>\n",
       "      <td>NaN</td>\n",
       "    </tr>\n",
       "    <tr>\n",
       "      <th>...</th>\n",
       "      <td>...</td>\n",
       "      <td>...</td>\n",
       "      <td>...</td>\n",
       "      <td>...</td>\n",
       "    </tr>\n",
       "    <tr>\n",
       "      <th>886</th>\n",
       "      <td>NaN</td>\n",
       "      <td>NaN</td>\n",
       "      <td>Montvila, Rev. Juozas</td>\n",
       "      <td>27.0</td>\n",
       "    </tr>\n",
       "    <tr>\n",
       "      <th>887</th>\n",
       "      <td>NaN</td>\n",
       "      <td>NaN</td>\n",
       "      <td>Graham, Miss. Margaret Edith</td>\n",
       "      <td>19.0</td>\n",
       "    </tr>\n",
       "    <tr>\n",
       "      <th>888</th>\n",
       "      <td>NaN</td>\n",
       "      <td>NaN</td>\n",
       "      <td>Johnston, Miss. Catherine Helen \"Carrie\"</td>\n",
       "      <td>NaN</td>\n",
       "    </tr>\n",
       "    <tr>\n",
       "      <th>889</th>\n",
       "      <td>NaN</td>\n",
       "      <td>NaN</td>\n",
       "      <td>Behr, Mr. Karl Howell</td>\n",
       "      <td>26.0</td>\n",
       "    </tr>\n",
       "    <tr>\n",
       "      <th>890</th>\n",
       "      <td>NaN</td>\n",
       "      <td>NaN</td>\n",
       "      <td>Dooley, Mr. Patrick</td>\n",
       "      <td>32.0</td>\n",
       "    </tr>\n",
       "  </tbody>\n",
       "</table>\n",
       "<p>1782 rows × 4 columns</p>\n",
       "</div>"
      ],
      "text/plain": [
       "     Survived  Pclass                                      Name   Age\n",
       "0         0.0     3.0                                       NaN   NaN\n",
       "1         1.0     1.0                                       NaN   NaN\n",
       "2         1.0     3.0                                       NaN   NaN\n",
       "3         1.0     1.0                                       NaN   NaN\n",
       "4         0.0     3.0                                       NaN   NaN\n",
       "..        ...     ...                                       ...   ...\n",
       "886       NaN     NaN                     Montvila, Rev. Juozas  27.0\n",
       "887       NaN     NaN              Graham, Miss. Margaret Edith  19.0\n",
       "888       NaN     NaN  Johnston, Miss. Catherine Helen \"Carrie\"   NaN\n",
       "889       NaN     NaN                     Behr, Mr. Karl Howell  26.0\n",
       "890       NaN     NaN                       Dooley, Mr. Patrick  32.0\n",
       "\n",
       "[1782 rows x 4 columns]"
      ]
     },
     "execution_count": 29,
     "metadata": {},
     "output_type": "execute_result"
    }
   ],
   "source": [
    "pd.concat([first_t, end_t], axis=0)"
   ]
  },
  {
   "cell_type": "markdown",
   "id": "1bee0eff",
   "metadata": {},
   "source": [
    "# Exploratory Data Analysis\n"
   ]
  },
  {
   "cell_type": "code",
   "execution_count": 43,
   "id": "d27ca43d",
   "metadata": {},
   "outputs": [
    {
     "data": {
      "text/plain": [
       "<AxesSubplot:ylabel='Frequency'>"
      ]
     },
     "execution_count": 43,
     "metadata": {},
     "output_type": "execute_result"
    },
    {
     "data": {
      "image/png": "[encoded data removed]",
      "text/plain": [
       "<Figure size 432x288 with 1 Axes>"
      ]
     },
     "metadata": {
      "needs_background": "light"
     },
     "output_type": "display_data"
    }
   ],
   "source": [
    "titanic_df[\"Pclass\"].plot(kind = 'hist')"
   ]
  },
  {
   "cell_type": "markdown",
   "id": "bcdc0ab4",
   "metadata": {},
   "source": [
    "# Plotting the count of each gender which survived"
   ]
  },
  {
   "cell_type": "code",
   "execution_count": 85,
   "id": "6043222a",
   "metadata": {
    "scrolled": false
   },
   "outputs": [
    {
     "data": {
      "text/plain": [
       "<AxesSubplot:xlabel='Sex'>"
      ]
     },
     "execution_count": 85,
     "metadata": {},
     "output_type": "execute_result"
    },
    {
     "data": {
      "image/png": "[encoded data removed]",
      "text/plain": [
       "<Figure size 432x288 with 1 Axes>"
      ]
     },
     "metadata": {
      "needs_background": "light"
     },
     "output_type": "display_data"
    }
   ],
   "source": [
    "df = titanic_df[[\"Survived\", \"Sex\"]]\n",
    "#df\n",
    "\n",
    "#malec = 0\n",
    "#femalec = 0\n",
    "#for i in df:\n",
    "#    print(df['Sex'])\n",
    "\n",
    "#    if(survived == 1 and sex == \"male\"):\n",
    "#        malec +=1\n",
    "#    if(survived == 1 and sex == \"female\"):\n",
    "#        femalec +=1\n",
    "        \n",
    "#print(femalec)\n",
    "\n",
    "titanic_df.plot.bar(x = 'Sex', y = 'Survived', rot=0)"
   ]
  },
  {
   "cell_type": "code",
   "execution_count": null,
   "id": "89387075",
   "metadata": {},
   "outputs": [],
   "source": []
  }
 ],
 "metadata": {
  "kernelspec": {
   "display_name": "Python 3.9.12 ('base')",
   "language": "python",
   "name": "python3"
  },
  "language_info": {
   "codemirror_mode": {
    "name": "ipython",
    "version": 3
   },
   "file_extension": ".py",
   "mimetype": "text/x-python",
   "name": "python",
   "nbconvert_exporter": "python",
   "pygments_lexer": "ipython3",
   "version": "3.9.12"
  },
  "vscode": {
   "interpreter": {
    "hash": "c24ecc2928a1df641fb89905a028e959d05eac4f79c1af53f0bb766b01409011"
   }
  }
 },
 "nbformat": 4,
 "nbformat_minor": 5
}
